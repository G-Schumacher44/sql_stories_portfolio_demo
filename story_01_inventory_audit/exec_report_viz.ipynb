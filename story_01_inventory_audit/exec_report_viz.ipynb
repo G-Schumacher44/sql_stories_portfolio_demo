{
    "cells": [
        {
            "cell_type": "markdown",
            "id": "50cebb80",
            "metadata": {},
            "source": [
                "# 📦 Scenario 01 — Inventory Accuracy & Utilization\n",
                "\n",
                "This workbook renders supporting visuals for the executive summary:\n",
                "- Utilization & capital allocation (working‑capital lens)\n",
                "- Category attention mix (risk distribution)\n",
                "- Returns quality (non‑restockable loss)\n",
                "- Optional risk quadrant (utilization × non‑restockable)\n",
                "\n",
                "> **Goal:** quantify where capital is locked, show how evenly risk is spread, and surface the quality drag on recovery value."
            ]
        },
        {
            "cell_type": "markdown",
            "id": "ec00dafb",
            "metadata": {},
            "source": [
                "## ⚙️ Setup & Data Check\n",
                "\n",
                "We connect to `ecom_retailer.db` and verify the presence of the audit object (`inventory_audit`).  \n",
                "If the view/table is missing, run the build SQL first, then re‑run this notebook."
            ]
        },
        {
            "cell_type": "code",
            "execution_count": 1,
            "id": "d8da1699",
            "metadata": {},
            "outputs": [
                {
                    "name": "stdout",
                    "output_type": "stream",
                    "text": [
                        "✅ Successfully connected to '/Users/garrettschumacher/Documents/git_repos/dev_sql_stories/ecom_retailer.db'\n",
                        "   View 'inventory_audit' found.\n"
                    ]
                }
            ],
            "source": [
                "# --- Load-in and database connection ---\n",
                "\n",
                "import sqlite3\n",
                "import pandas as pd\n",
                "import matplotlib.pyplot as plt\n",
                "import os\n",
                "from pathlib import Path\n",
                "\n",
                "# --- Configuration ---\n",
                "# The database file should be in the same directory as this notebook.\n",
                "# NOTE: For this relative path to work, please ensure you launch the Jupyter server\n",
                "# from this notebook's directory ('story_01_inventory_accuracy').\n",
                "DB_PATH = \"ecom_retailer.db\"\n",
                "\n",
                "# --- Connection and Verification ---\n",
                "# Establish the connection to the SQLite database.\n",
                "# sqlite3.connect() will create an empty file if the DB doesn't exist at the specified path.\n",
                "conn = sqlite3.connect(DB_PATH)\n",
                "\n",
                "# **Verification Step**\n",
                "# Let's check if we connected to the correct database by looking for our main view.\n",
                "# This helps catch pathing errors early.\n",
                "try:\n",
                "    cursor = conn.cursor()\n",
                "    cursor.execute(\"SELECT name FROM sqlite_master WHERE type='view' AND name='inventory_audit';\")\n",
                "    result = cursor.fetchone()\n",
                "    if result:\n",
                "        print(f\"✅ Successfully connected to '{os.path.abspath(DB_PATH)}'\")\n",
                "        print(f\"   View 'inventory_audit' found.\")\n",
                "    else:\n",
                "        print(f\"⚠️ Connection made, but 'inventory_audit' view not found in '{os.path.abspath(DB_PATH)}'.\")\n",
                "        print(\"   Please ensure the path is correct and you have run the `build_inventory_audit_view.sql` script.\")\n",
                "except sqlite3.Error as e:\n",
                "    print(f\"❌ Database connection failed: {e}\")"
            ]
        },
        {
            "cell_type": "markdown",
            "id": "25823be7",
            "metadata": {},
            "source": [
                "### 🔍 Inventory Audit — Validation Notes  \n",
                "\n",
                "- **Schema:** The audit view provides ratios only (no raw `stock_on_hand` or `units_sold` counts).  \n",
                "- **Utilization:** One SKU (`modern lamp`) exceeds 1.0 utilization (≈1.14). This likely represents a stockout/backorder case, which is a valid anomaly for audit review.  \n",
                "- **Outliers:**  \n",
                "  - 17 SKUs flagged as utilization outliers (very high/low efficiency).  \n",
                "  - 6 SKUs flagged as return-rate outliers (excessive returns).  \n",
                "  These are retained as **signals**, not dropped, since the audit’s purpose is to surface exceptions.  \n",
                "\n",
                "✅ Overall, the dataset is clean enough for visualization and analysis, with flagged anomalies treated as business-relevant insights rather than data errors."
            ]
        },
        {
            "cell_type": "code",
            "execution_count": 2,
            "id": "50cc7088",
            "metadata": {},
            "outputs": [
                {
                    "data": {
                        "application/vnd.microsoft.datawrangler.viewer.v0+json": {
                            "columns": [
                                {
                                    "name": "index",
                                    "rawType": "int64",
                                    "type": "integer"
                                },
                                {
                                    "name": "product_id",
                                    "rawType": "int64",
                                    "type": "integer"
                                },
                                {
                                    "name": "product_name",
                                    "rawType": "object",
                                    "type": "string"
                                },
                                {
                                    "name": "inventory_utilization_ratio",
                                    "rawType": "float64",
                                    "type": "float"
                                },
                                {
                                    "name": "return_rate",
                                    "rawType": "float64",
                                    "type": "float"
                                }
                            ],
                            "ref": "699dbda2-181c-47f8-8a66-b952cde807f9",
                            "rows": [
                                [
                                    "348",
                                    "349",
                                    "modern lamp",
                                    "1.1386138613861385",
                                    "0.0873015873015873"
                                ]
                            ],
                            "shape": {
                                "columns": 4,
                                "rows": 1
                            }
                        },
                        "text/html": [
                            "<div>\n",
                            "<style scoped>\n",
                            "    .dataframe tbody tr th:only-of-type {\n",
                            "        vertical-align: middle;\n",
                            "    }\n",
                            "\n",
                            "    .dataframe tbody tr th {\n",
                            "        vertical-align: top;\n",
                            "    }\n",
                            "\n",
                            "    .dataframe thead th {\n",
                            "        text-align: right;\n",
                            "    }\n",
                            "</style>\n",
                            "<table border=\"1\" class=\"dataframe\">\n",
                            "  <thead>\n",
                            "    <tr style=\"text-align: right;\">\n",
                            "      <th></th>\n",
                            "      <th>product_id</th>\n",
                            "      <th>product_name</th>\n",
                            "      <th>inventory_utilization_ratio</th>\n",
                            "      <th>return_rate</th>\n",
                            "    </tr>\n",
                            "  </thead>\n",
                            "  <tbody>\n",
                            "    <tr>\n",
                            "      <th>348</th>\n",
                            "      <td>349</td>\n",
                            "      <td>modern lamp</td>\n",
                            "      <td>1.138614</td>\n",
                            "      <td>0.087302</td>\n",
                            "    </tr>\n",
                            "  </tbody>\n",
                            "</table>\n",
                            "</div>"
                        ],
                        "text/plain": [
                            "     product_id product_name  inventory_utilization_ratio  return_rate\n",
                            "348         349  modern lamp                     1.138614     0.087302"
                        ]
                    },
                    "metadata": {},
                    "output_type": "display_data"
                },
                {
                    "name": "stdout",
                    "output_type": "stream",
                    "text": [
                        "inventory_utilization_ratio: ⚠️ 17 outliers (>3σ) — min=0.077, max=1.139\n",
                        "nonrestock_rate: ✅ no extreme outliers — min=0.000, max=1.000\n",
                        "return_rate: ⚠️ 6 outliers (>3σ) — min=0.000, max=0.457\n",
                        "\n",
                        "🚩 SKUs with utilization > 1.0 (possible stockouts/data anomalies):\n"
                    ]
                },
                {
                    "data": {
                        "application/vnd.microsoft.datawrangler.viewer.v0+json": {
                            "columns": [
                                {
                                    "name": "index",
                                    "rawType": "int64",
                                    "type": "integer"
                                },
                                {
                                    "name": "product_id",
                                    "rawType": "int64",
                                    "type": "integer"
                                },
                                {
                                    "name": "product_name",
                                    "rawType": "object",
                                    "type": "string"
                                },
                                {
                                    "name": "inventory_utilization_ratio",
                                    "rawType": "float64",
                                    "type": "float"
                                }
                            ],
                            "ref": "02b4e1fc-5d4c-4b78-8828-80e20e0accd5",
                            "rows": [
                                [
                                    "348",
                                    "349",
                                    "modern lamp",
                                    "1.1386138613861385"
                                ]
                            ],
                            "shape": {
                                "columns": 3,
                                "rows": 1
                            }
                        },
                        "text/html": [
                            "<div>\n",
                            "<style scoped>\n",
                            "    .dataframe tbody tr th:only-of-type {\n",
                            "        vertical-align: middle;\n",
                            "    }\n",
                            "\n",
                            "    .dataframe tbody tr th {\n",
                            "        vertical-align: top;\n",
                            "    }\n",
                            "\n",
                            "    .dataframe thead th {\n",
                            "        text-align: right;\n",
                            "    }\n",
                            "</style>\n",
                            "<table border=\"1\" class=\"dataframe\">\n",
                            "  <thead>\n",
                            "    <tr style=\"text-align: right;\">\n",
                            "      <th></th>\n",
                            "      <th>product_id</th>\n",
                            "      <th>product_name</th>\n",
                            "      <th>inventory_utilization_ratio</th>\n",
                            "    </tr>\n",
                            "  </thead>\n",
                            "  <tbody>\n",
                            "    <tr>\n",
                            "      <th>348</th>\n",
                            "      <td>349</td>\n",
                            "      <td>modern lamp</td>\n",
                            "      <td>1.138614</td>\n",
                            "    </tr>\n",
                            "  </tbody>\n",
                            "</table>\n",
                            "</div>"
                        ],
                        "text/plain": [
                            "     product_id product_name  inventory_utilization_ratio\n",
                            "348         349  modern lamp                     1.138614"
                        ]
                    },
                    "metadata": {},
                    "output_type": "display_data"
                },
                {
                    "name": "stdout",
                    "output_type": "stream",
                    "text": [
                        "Inventory Audit — Validation Summary\n",
                        "✅ inventory_audit is present\n",
                        "✅ inventory_audit not empty — rows=1286\n",
                        "⚠️ expected columns present — missing=['stock_on_hand', 'units_sold']\n",
                        "⚠️ inventory_utilization_ratio in [0,1] — min=0.07692307692307693, max=1.1386138613861385\n",
                        "✅ nonrestock_rate in [0,1] — min=0.0, max=1.0\n",
                        "✅ return_rate in [0,1] — min=0.0, max=0.45652173913043476\n",
                        "⚠️ utilization ≤ 1.0 (no theoretical over-sell) — n_over_1=1; n_over_1.1=1\n"
                    ]
                }
            ],
            "source": [
                "# Lightweight validation for `inventory_audit`\n",
                "\n",
                "# --- Reuse existing helpers if available, otherwise make a tiny fallback ---\n",
                "def _detect_root():\n",
                "    for r in [Path(\".\"), Path(\"..\"), Path(\"../..\")]:\n",
                "        if (r / \"ecom_retailer.db\").exists():\n",
                "            return r.resolve()\n",
                "    return Path(\".\").resolve()\n",
                "\n",
                "try:\n",
                "    q  # if q() already defined, we'll use it\n",
                "    _HAS_Q = True\n",
                "except NameError:\n",
                "    _HAS_Q = False\n",
                "    ROOT = _detect_root()\n",
                "    DB_PATH = ROOT / \"ecom_retailer.db\"\n",
                "    conn = sqlite3.connect(str(DB_PATH))\n",
                "    def q(sql, params=None):\n",
                "        return pd.read_sql_query(sql, conn, params=params)\n",
                "\n",
                "checks = []\n",
                "def ok(name, cond, detail=\"\"):\n",
                "    checks.append((name, bool(cond), detail))\n",
                "\n",
                "# --- 1) view exists ---\n",
                "v = q(\"SELECT name FROM sqlite_master WHERE type IN ('view','table') AND name='inventory_audit';\")\n",
                "ok(\"inventory_audit is present\", not v.empty)\n",
                "\n",
                "if v.empty:\n",
                "    # Print summary and bail early\n",
                "    print(\"⚠️ `inventory_audit` not found. Run the build SQL (e.g., `build_inventory_audit_view.sql`) and re-run this notebook.\")\n",
                "else:\n",
                "    # --- 2) load & schema checks ---\n",
                "    df = q(\"SELECT * FROM inventory_audit;\")\n",
                "    ok(\"inventory_audit not empty\", not df.empty, f\"rows={len(df)}\")\n",
                "\n",
                "    expected = {\n",
                "        \"product_id\", \"product_name\",\n",
                "        \"stock_on_hand\", \"units_sold\",\n",
                "        \"inventory_utilization_ratio\",  # sold / stocked (or equivalent)\n",
                "        \"nonrestock_rate\",              # fraction not restocked\n",
                "        \"return_rate\"                   # fraction returned\n",
                "    }\n",
                "    missing = expected - set(df.columns)\n",
                "    ok(\"expected columns present\", len(missing) == 0, f\"missing={sorted(missing)}\")\n",
                "\n",
                "    # --- 3) range checks on key rates in [0,1] ---\n",
                "    def in_01(s):\n",
                "        x = pd.to_numeric(s, errors=\"coerce\")\n",
                "        return x.dropna().between(0, 1).all(), (x.min(skipna=True), x.max(skipna=True))\n",
                "\n",
                "    for col in [\"inventory_utilization_ratio\", \"nonrestock_rate\", \"return_rate\"]:\n",
                "        if col in df.columns:\n",
                "            passed, (mn, mx) = in_01(df[col])\n",
                "            ok(f\"{col} in [0,1]\", passed, f\"min={mn}, max={mx}\")\n",
                "\n",
                "    # --- 4) anomalies: utilization > 1.0 (and >1.1 severe) ---\n",
                "    if \"inventory_utilization_ratio\" in df.columns:\n",
                "        util = pd.to_numeric(df[\"inventory_utilization_ratio\"], errors=\"coerce\")\n",
                "        over_1 = df[util > 1.0]\n",
                "        over_11 = df[util > 1.1]\n",
                "        ok(\"utilization ≤ 1.0 (no theoretical over-sell)\", over_1.empty, f\"n_over_1={len(over_1)}; n_over_1.1={len(over_11)}\")\n",
                "\n",
                "        # quick peek at top offenders (won't spam: show up to 5)\n",
                "        if not over_1.empty:\n",
                "            cols_show = [c for c in [\"product_id\",\"product_name\",\"stock_on_hand\",\"units_sold\",\"inventory_utilization_ratio\",\"return_rate\"] if c in df.columns]\n",
                "            display(over_1.sort_values(\"inventory_utilization_ratio\", ascending=False)[cols_show].head(5))\n",
                "\n",
                "# --- Outlier check for inventory_audit key metrics ---\n",
                "\n",
                "df = q(\"SELECT product_id, product_name, inventory_utilization_ratio, nonrestock_rate, return_rate FROM inventory_audit;\")\n",
                "\n",
                "def outlier_summary(series, name, z_thresh=3):\n",
                "    \"\"\"Flag extreme values by z-score.\"\"\"\n",
                "    s = pd.to_numeric(series, errors=\"coerce\").dropna()\n",
                "    if s.empty:\n",
                "        return f\"{name}: no data\"\n",
                "    z = (s - s.mean()) / s.std(ddof=0)\n",
                "    outliers = s[abs(z) > z_thresh]\n",
                "    if not outliers.empty:\n",
                "        return f\"{name}: ⚠️ {len(outliers)} outliers (>{z_thresh}σ) — min={s.min():.3f}, max={s.max():.3f}\"\n",
                "    else:\n",
                "        return f\"{name}: ✅ no extreme outliers — min={s.min():.3f}, max={s.max():.3f}\"\n",
                "\n",
                "print(outlier_summary(df[\"inventory_utilization_ratio\"], \"inventory_utilization_ratio\"))\n",
                "print(outlier_summary(df[\"nonrestock_rate\"], \"nonrestock_rate\"))\n",
                "print(outlier_summary(df[\"return_rate\"], \"return_rate\"))\n",
                "\n",
                "# Optional: peek at top offenders for utilization >1.0\n",
                "over_1 = df[df[\"inventory_utilization_ratio\"] > 1.0]\n",
                "if not over_1.empty:\n",
                "    print(\"\\n🚩 SKUs with utilization > 1.0 (possible stockouts/data anomalies):\")\n",
                "    display(over_1[[\"product_id\",\"product_name\",\"inventory_utilization_ratio\"]].head(5))\n",
                "    \n",
                "    # --- 5) print summary ---\n",
                "    print(\"Inventory Audit — Validation Summary\")\n",
                "    for name, passed, detail in checks:\n",
                "        badge = \"✅\" if passed else \"⚠️\"\n",
                "        print(f\"{badge} {name}\" + (f\" — {detail}\" if detail else \"\"))"
            ]
        },
        {
            "cell_type": "code",
            "execution_count": 3,
            "id": "b5f773af",
            "metadata": {},
            "outputs": [
                {
                    "name": "stdout",
                    "output_type": "stream",
                    "text": [
                        "(0, 'product_id', 'INTEGER', 0, None, 0)\n",
                        "(1, 'product_name', '', 0, None, 0)\n",
                        "(2, 'category', '', 0, None, 0)\n",
                        "(3, 'inventory_quantity', 'INTEGER', 0, None, 0)\n",
                        "(4, 'total_sold', '', 0, None, 0)\n",
                        "(5, 'total_returned', '', 0, None, 0)\n",
                        "(6, 'net_units_sold', '', 0, None, 0)\n",
                        "(7, 'inventory_utilization_ratio', '', 0, None, 0)\n",
                        "(8, 'gross_sales_amount', '', 0, None, 0)\n",
                        "(9, 'gross_refunded_amount', '', 0, None, 0)\n",
                        "(10, 'restockable_qty', '', 0, None, 0)\n",
                        "(11, 'nonrestockable_qty', '', 0, None, 0)\n",
                        "(12, 'nonrestock_rate', '', 0, None, 0)\n",
                        "(13, 'oversold_flag', '', 0, None, 0)\n",
                        "(14, 'inv_attention_flag', '', 0, None, 0)\n",
                        "(15, 'return_rate', '', 0, None, 0)\n",
                        "(16, 'inv_attention_score', '', 0, None, 0)\n",
                        "(17, 'inv_attention_tier', '', 0, None, 0)\n"
                    ]
                }
            ],
            "source": [
                "# --- Inspect columns ---\n",
                "cursor = conn.cursor()\n",
                "cursor.execute(\"PRAGMA table_info(inventory_audit);\")\n",
                "for col in cursor.fetchall():\n",
                "    print(col)"
            ]
        },
        {
            "cell_type": "markdown",
            "id": "81f77ad2",
            "metadata": {},
            "source": [
                "## 📊 KPI Snapshot (Catalog‑Wide)\n",
                "\n",
                "**What we calculate**\n",
                "- **Avg Utilization (%)** — unweighted view of sell‑through by SKU.  \n",
                "- **Weighted Utilization (%)** — units‑weighted view across the catalog.  \n",
                "- **Tied‑Up Capital ($)** — value of excess units (working capital locked).  \n",
                "- **Scenarios (10/20/30%)** — potential cash unlocked with reductions.\n",
                "\n",
                "**Why it matters**  \n",
                "This frames the scale of inefficiency and the immediate cash opportunity from reducing slow‑moving stock."
            ]
        },
        {
            "cell_type": "code",
            "execution_count": 4,
            "id": "66fc88ea",
            "metadata": {},
            "outputs": [
                {
                    "data": {
                        "application/vnd.microsoft.datawrangler.viewer.v0+json": {
                            "columns": [
                                {
                                    "name": "index",
                                    "rawType": "int64",
                                    "type": "integer"
                                },
                                {
                                    "name": "total_inventory_units",
                                    "rawType": "int64",
                                    "type": "integer"
                                },
                                {
                                    "name": "total_sold_units",
                                    "rawType": "int64",
                                    "type": "integer"
                                },
                                {
                                    "name": "total_returned_units",
                                    "rawType": "int64",
                                    "type": "integer"
                                },
                                {
                                    "name": "total_tied_up_usd",
                                    "rawType": "float64",
                                    "type": "float"
                                },
                                {
                                    "name": "avg_utilization_pct",
                                    "rawType": "float64",
                                    "type": "float"
                                },
                                {
                                    "name": "weighted_utilization_pct",
                                    "rawType": "float64",
                                    "type": "float"
                                }
                            ],
                            "ref": "6e7d503c-18bb-400d-85e3-7f12ad8e2af8",
                            "rows": [
                                [
                                    "0",
                                    "224925",
                                    "86607",
                                    "13323",
                                    "19053395.37",
                                    "32.8",
                                    "32.6"
                                ]
                            ],
                            "shape": {
                                "columns": 6,
                                "rows": 1
                            }
                        },
                        "text/html": [
                            "<div>\n",
                            "<style scoped>\n",
                            "    .dataframe tbody tr th:only-of-type {\n",
                            "        vertical-align: middle;\n",
                            "    }\n",
                            "\n",
                            "    .dataframe tbody tr th {\n",
                            "        vertical-align: top;\n",
                            "    }\n",
                            "\n",
                            "    .dataframe thead th {\n",
                            "        text-align: right;\n",
                            "    }\n",
                            "</style>\n",
                            "<table border=\"1\" class=\"dataframe\">\n",
                            "  <thead>\n",
                            "    <tr style=\"text-align: right;\">\n",
                            "      <th></th>\n",
                            "      <th>total_inventory_units</th>\n",
                            "      <th>total_sold_units</th>\n",
                            "      <th>total_returned_units</th>\n",
                            "      <th>total_tied_up_usd</th>\n",
                            "      <th>avg_utilization_pct</th>\n",
                            "      <th>weighted_utilization_pct</th>\n",
                            "    </tr>\n",
                            "  </thead>\n",
                            "  <tbody>\n",
                            "    <tr>\n",
                            "      <th>0</th>\n",
                            "      <td>224925</td>\n",
                            "      <td>86607</td>\n",
                            "      <td>13323</td>\n",
                            "      <td>19053395.37</td>\n",
                            "      <td>32.8</td>\n",
                            "      <td>32.6</td>\n",
                            "    </tr>\n",
                            "  </tbody>\n",
                            "</table>\n",
                            "</div>"
                        ],
                        "text/plain": [
                            "   total_inventory_units  total_sold_units  total_returned_units  \\\n",
                            "0                 224925             86607                 13323   \n",
                            "\n",
                            "   total_tied_up_usd  avg_utilization_pct  weighted_utilization_pct  \n",
                            "0        19053395.37                 32.8                      32.6  "
                        ]
                    },
                    "execution_count": 4,
                    "metadata": {},
                    "output_type": "execute_result"
                }
            ],
            "source": [
                "# --- Surface Utilization KPI's ---\n",
                "\n",
                "sql_kpis = \"\"\"\n",
                "WITH inv AS (\n",
                "    SELECT\n",
                "        category,\n",
                "        SUM(inventory_quantity) AS total_inv,\n",
                "        SUM(total_sold)         AS total_sold,\n",
                "        SUM(total_returned)     AS total_returned,\n",
                "\n",
                "        -- Capital tied up in excess units, approximated at avg unit price\n",
                "        -- avg_unit_price ≈ gross_sales_amount / total_sold\n",
                "        SUM(\n",
                "          CASE\n",
                "            WHEN (inventory_quantity - net_units_sold) > 0 AND total_sold > 0 THEN\n",
                "              (inventory_quantity - net_units_sold) * (gross_sales_amount * 1.0 / total_sold)\n",
                "            ELSE 0\n",
                "          END\n",
                "        ) AS tied_up\n",
                "    FROM inventory_audit\n",
                "    GROUP BY category\n",
                ")\n",
                "SELECT\n",
                "    SUM(total_inv)  AS total_inventory_units,\n",
                "    SUM(total_sold) AS total_sold_units,\n",
                "    SUM(total_returned) AS total_returned_units,\n",
                "    ROUND(SUM(tied_up), 2) AS total_tied_up_usd,\n",
                "\n",
                "    -- Simple average of SKU-level utilization across categories (unweighted)\n",
                "    ROUND(AVG((total_sold - total_returned) * 1.0 / NULLIF(total_inv,0)) * 100, 1) AS avg_utilization_pct,\n",
                "\n",
                "    -- Weighted utilization across the whole catalog (units-based)\n",
                "    ROUND(\n",
                "      (SUM(total_sold - total_returned) * 1.0) / NULLIF(SUM(total_inv),0) * 100, 1\n",
                "    ) AS weighted_utilization_pct\n",
                "FROM inv;\n",
                "\"\"\"\n",
                "df_kpis = pd.read_sql(sql_kpis, conn)\n",
                "df_kpis"
            ]
        },
        {
            "cell_type": "markdown",
            "id": "fcf34d6d",
            "metadata": {},
            "source": [
                "## 🧭 Category Attention Mix (Table)\n",
                "\n",
                "This table shows the **share of SKUs by attention tier** within each category.  \n",
                "Key pattern: **“Moderate Attention” dominates (~40–50%)** across most categories, while **“High Attention”** remains a **small minority** (1–5%) — indicating **systemic under‑performance** rather than one category driving risk.\n",
                "\n",
                "**How to read**\n",
                "- **pct_within_category** = % of SKUs in that tier for the category (sums to ~100%).  \n",
                "- Use this to confirm that **risk is broadly distributed**, not isolated.\n"
            ]
        },
        {
            "cell_type": "code",
            "execution_count": 5,
            "id": "a36efca8",
            "metadata": {},
            "outputs": [
                {
                    "data": {
                        "application/vnd.microsoft.datawrangler.viewer.v0+json": {
                            "columns": [
                                {
                                    "name": "index",
                                    "rawType": "int64",
                                    "type": "integer"
                                },
                                {
                                    "name": "category",
                                    "rawType": "object",
                                    "type": "string"
                                },
                                {
                                    "name": "inv_attention_tier",
                                    "rawType": "object",
                                    "type": "string"
                                },
                                {
                                    "name": "n_products",
                                    "rawType": "int64",
                                    "type": "integer"
                                },
                                {
                                    "name": "pct_within_category",
                                    "rawType": "float64",
                                    "type": "float"
                                }
                            ],
                            "ref": "95769793-716d-4e66-905e-0f115ee33f3a",
                            "rows": [
                                [
                                    "0",
                                    "books",
                                    "Tier 0 – Healthy",
                                    "140",
                                    "52.4"
                                ],
                                [
                                    "1",
                                    "books",
                                    "Tier 1 – Low Attention",
                                    "9",
                                    "3.4"
                                ],
                                [
                                    "2",
                                    "books",
                                    "Tier 2 – Moderate Attention",
                                    "110",
                                    "41.2"
                                ],
                                [
                                    "3",
                                    "books",
                                    "Tier 3 – High Attention",
                                    "8",
                                    "3.0"
                                ],
                                [
                                    "4",
                                    "clothing",
                                    "Tier 0 – Healthy",
                                    "106",
                                    "43.6"
                                ],
                                [
                                    "5",
                                    "clothing",
                                    "Tier 1 – Low Attention",
                                    "12",
                                    "4.9"
                                ],
                                [
                                    "6",
                                    "clothing",
                                    "Tier 2 – Moderate Attention",
                                    "117",
                                    "48.1"
                                ],
                                [
                                    "7",
                                    "clothing",
                                    "Tier 3 – High Attention",
                                    "8",
                                    "3.3"
                                ],
                                [
                                    "8",
                                    "electronics",
                                    "Tier 0 – Healthy",
                                    "144",
                                    "54.5"
                                ],
                                [
                                    "9",
                                    "electronics",
                                    "Tier 1 – Low Attention",
                                    "9",
                                    "3.4"
                                ],
                                [
                                    "10",
                                    "electronics",
                                    "Tier 2 – Moderate Attention",
                                    "108",
                                    "40.9"
                                ],
                                [
                                    "11",
                                    "electronics",
                                    "Tier 3 – High Attention",
                                    "3",
                                    "1.1"
                                ],
                                [
                                    "12",
                                    "home",
                                    "Tier 0 – Healthy",
                                    "215",
                                    "90.3"
                                ],
                                [
                                    "13",
                                    "home",
                                    "Tier 1 – Low Attention",
                                    "1",
                                    "0.4"
                                ],
                                [
                                    "14",
                                    "home",
                                    "Tier 2 – Moderate Attention",
                                    "22",
                                    "9.2"
                                ],
                                [
                                    "15",
                                    "toys",
                                    "Tier 0 – Healthy",
                                    "75",
                                    "27.4"
                                ],
                                [
                                    "16",
                                    "toys",
                                    "Tier 1 – Low Attention",
                                    "13",
                                    "4.7"
                                ],
                                [
                                    "17",
                                    "toys",
                                    "Tier 2 – Moderate Attention",
                                    "173",
                                    "63.1"
                                ],
                                [
                                    "18",
                                    "toys",
                                    "Tier 3 – High Attention",
                                    "13",
                                    "4.7"
                                ]
                            ],
                            "shape": {
                                "columns": 4,
                                "rows": 19
                            }
                        },
                        "text/html": [
                            "<div>\n",
                            "<style scoped>\n",
                            "    .dataframe tbody tr th:only-of-type {\n",
                            "        vertical-align: middle;\n",
                            "    }\n",
                            "\n",
                            "    .dataframe tbody tr th {\n",
                            "        vertical-align: top;\n",
                            "    }\n",
                            "\n",
                            "    .dataframe thead th {\n",
                            "        text-align: right;\n",
                            "    }\n",
                            "</style>\n",
                            "<table border=\"1\" class=\"dataframe\">\n",
                            "  <thead>\n",
                            "    <tr style=\"text-align: right;\">\n",
                            "      <th></th>\n",
                            "      <th>category</th>\n",
                            "      <th>inv_attention_tier</th>\n",
                            "      <th>n_products</th>\n",
                            "      <th>pct_within_category</th>\n",
                            "    </tr>\n",
                            "  </thead>\n",
                            "  <tbody>\n",
                            "    <tr>\n",
                            "      <th>0</th>\n",
                            "      <td>books</td>\n",
                            "      <td>Tier 0 – Healthy</td>\n",
                            "      <td>140</td>\n",
                            "      <td>52.4</td>\n",
                            "    </tr>\n",
                            "    <tr>\n",
                            "      <th>1</th>\n",
                            "      <td>books</td>\n",
                            "      <td>Tier 1 – Low Attention</td>\n",
                            "      <td>9</td>\n",
                            "      <td>3.4</td>\n",
                            "    </tr>\n",
                            "    <tr>\n",
                            "      <th>2</th>\n",
                            "      <td>books</td>\n",
                            "      <td>Tier 2 – Moderate Attention</td>\n",
                            "      <td>110</td>\n",
                            "      <td>41.2</td>\n",
                            "    </tr>\n",
                            "    <tr>\n",
                            "      <th>3</th>\n",
                            "      <td>books</td>\n",
                            "      <td>Tier 3 – High Attention</td>\n",
                            "      <td>8</td>\n",
                            "      <td>3.0</td>\n",
                            "    </tr>\n",
                            "    <tr>\n",
                            "      <th>4</th>\n",
                            "      <td>clothing</td>\n",
                            "      <td>Tier 0 – Healthy</td>\n",
                            "      <td>106</td>\n",
                            "      <td>43.6</td>\n",
                            "    </tr>\n",
                            "    <tr>\n",
                            "      <th>5</th>\n",
                            "      <td>clothing</td>\n",
                            "      <td>Tier 1 – Low Attention</td>\n",
                            "      <td>12</td>\n",
                            "      <td>4.9</td>\n",
                            "    </tr>\n",
                            "    <tr>\n",
                            "      <th>6</th>\n",
                            "      <td>clothing</td>\n",
                            "      <td>Tier 2 – Moderate Attention</td>\n",
                            "      <td>117</td>\n",
                            "      <td>48.1</td>\n",
                            "    </tr>\n",
                            "    <tr>\n",
                            "      <th>7</th>\n",
                            "      <td>clothing</td>\n",
                            "      <td>Tier 3 – High Attention</td>\n",
                            "      <td>8</td>\n",
                            "      <td>3.3</td>\n",
                            "    </tr>\n",
                            "    <tr>\n",
                            "      <th>8</th>\n",
                            "      <td>electronics</td>\n",
                            "      <td>Tier 0 – Healthy</td>\n",
                            "      <td>144</td>\n",
                            "      <td>54.5</td>\n",
                            "    </tr>\n",
                            "    <tr>\n",
                            "      <th>9</th>\n",
                            "      <td>electronics</td>\n",
                            "      <td>Tier 1 – Low Attention</td>\n",
                            "      <td>9</td>\n",
                            "      <td>3.4</td>\n",
                            "    </tr>\n",
                            "    <tr>\n",
                            "      <th>10</th>\n",
                            "      <td>electronics</td>\n",
                            "      <td>Tier 2 – Moderate Attention</td>\n",
                            "      <td>108</td>\n",
                            "      <td>40.9</td>\n",
                            "    </tr>\n",
                            "    <tr>\n",
                            "      <th>11</th>\n",
                            "      <td>electronics</td>\n",
                            "      <td>Tier 3 – High Attention</td>\n",
                            "      <td>3</td>\n",
                            "      <td>1.1</td>\n",
                            "    </tr>\n",
                            "    <tr>\n",
                            "      <th>12</th>\n",
                            "      <td>home</td>\n",
                            "      <td>Tier 0 – Healthy</td>\n",
                            "      <td>215</td>\n",
                            "      <td>90.3</td>\n",
                            "    </tr>\n",
                            "    <tr>\n",
                            "      <th>13</th>\n",
                            "      <td>home</td>\n",
                            "      <td>Tier 1 – Low Attention</td>\n",
                            "      <td>1</td>\n",
                            "      <td>0.4</td>\n",
                            "    </tr>\n",
                            "    <tr>\n",
                            "      <th>14</th>\n",
                            "      <td>home</td>\n",
                            "      <td>Tier 2 – Moderate Attention</td>\n",
                            "      <td>22</td>\n",
                            "      <td>9.2</td>\n",
                            "    </tr>\n",
                            "    <tr>\n",
                            "      <th>15</th>\n",
                            "      <td>toys</td>\n",
                            "      <td>Tier 0 – Healthy</td>\n",
                            "      <td>75</td>\n",
                            "      <td>27.4</td>\n",
                            "    </tr>\n",
                            "    <tr>\n",
                            "      <th>16</th>\n",
                            "      <td>toys</td>\n",
                            "      <td>Tier 1 – Low Attention</td>\n",
                            "      <td>13</td>\n",
                            "      <td>4.7</td>\n",
                            "    </tr>\n",
                            "    <tr>\n",
                            "      <th>17</th>\n",
                            "      <td>toys</td>\n",
                            "      <td>Tier 2 – Moderate Attention</td>\n",
                            "      <td>173</td>\n",
                            "      <td>63.1</td>\n",
                            "    </tr>\n",
                            "    <tr>\n",
                            "      <th>18</th>\n",
                            "      <td>toys</td>\n",
                            "      <td>Tier 3 – High Attention</td>\n",
                            "      <td>13</td>\n",
                            "      <td>4.7</td>\n",
                            "    </tr>\n",
                            "  </tbody>\n",
                            "</table>\n",
                            "</div>"
                        ],
                        "text/plain": [
                            "       category           inv_attention_tier  n_products  pct_within_category\n",
                            "0         books             Tier 0 – Healthy         140                 52.4\n",
                            "1         books       Tier 1 – Low Attention           9                  3.4\n",
                            "2         books  Tier 2 – Moderate Attention         110                 41.2\n",
                            "3         books      Tier 3 – High Attention           8                  3.0\n",
                            "4      clothing             Tier 0 – Healthy         106                 43.6\n",
                            "5      clothing       Tier 1 – Low Attention          12                  4.9\n",
                            "6      clothing  Tier 2 – Moderate Attention         117                 48.1\n",
                            "7      clothing      Tier 3 – High Attention           8                  3.3\n",
                            "8   electronics             Tier 0 – Healthy         144                 54.5\n",
                            "9   electronics       Tier 1 – Low Attention           9                  3.4\n",
                            "10  electronics  Tier 2 – Moderate Attention         108                 40.9\n",
                            "11  electronics      Tier 3 – High Attention           3                  1.1\n",
                            "12         home             Tier 0 – Healthy         215                 90.3\n",
                            "13         home       Tier 1 – Low Attention           1                  0.4\n",
                            "14         home  Tier 2 – Moderate Attention          22                  9.2\n",
                            "15         toys             Tier 0 – Healthy          75                 27.4\n",
                            "16         toys       Tier 1 – Low Attention          13                  4.7\n",
                            "17         toys  Tier 2 – Moderate Attention         173                 63.1\n",
                            "18         toys      Tier 3 – High Attention          13                  4.7"
                        ]
                    },
                    "execution_count": 5,
                    "metadata": {},
                    "output_type": "execute_result"
                }
            ],
            "source": [
                "# --- View Attention Flag Tiers ---\n",
                "\n",
                "sql_tiers = \"\"\"\n",
                "SELECT\n",
                "    category,\n",
                "    inv_attention_tier,\n",
                "    COUNT(DISTINCT product_id) AS n_products,\n",
                "    ROUND(\n",
                "      100.0 * COUNT(DISTINCT product_id)\n",
                "      / SUM(COUNT(DISTINCT product_id)) OVER (PARTITION BY category), 1\n",
                "    ) AS pct_within_category\n",
                "FROM inventory_audit\n",
                "GROUP BY category, inv_attention_tier\n",
                "ORDER BY category, inv_attention_tier;\n",
                "\"\"\"\n",
                "df_tiers = pd.read_sql(sql_tiers, conn)\n",
                "df_tiers"
            ]
        },
        {
            "cell_type": "markdown",
            "id": "dd12495e",
            "metadata": {},
            "source": [
                "## 📉 SKU‑Level Utilization (Histogram)\n",
                "\n",
                "The utilization distribution is **skewed low** with a cluster below the **30%** threshold.  \n",
                "Average utilization sits near **~32%**, confirming **under‑utilization** across a large share of SKUs.\n",
                "\n",
                "**Why it matters**\n",
                "- Low utilization = **slow‑moving inventory** → **working capital locked** and **higher carrying costs**.\n",
                "- Inventory velocity is the lever; the histogram shows **breadth** of the issue (not just a few outliers)."
            ]
        },
        {
            "cell_type": "code",
            "execution_count": 6,
            "id": "6655ac21",
            "metadata": {},
            "outputs": [
                {
                    "data": {
                        "image/png": "[encoded data removed]",
                        "text/plain": [
                            "<Figure size 1000x600 with 1 Axes>"
                        ]
                    },
                    "metadata": {},
                    "output_type": "display_data"
                }
            ],
            "source": [
                "# --- plot SKU level Utilization ---\n",
                "\n",
                "sql_util = \"\"\"\n",
                "SELECT\n",
                "    product_id,\n",
                "    category,\n",
                "    (total_sold - total_returned) * 1.0 / NULLIF(inventory_quantity,0) AS utilization\n",
                "FROM inventory_audit;\n",
                "\"\"\"\n",
                "df_util = pd.read_sql(sql_util, conn)\n",
                "\n",
                "plt.figure(figsize=(10,6))\n",
                "plt.hist(df_util[\"utilization\"].dropna(), bins=30, edgecolor=\"black\")\n",
                "plt.axvline(0.30, color=\"red\", linestyle=\"--\", label=\"30% Threshold\")\n",
                "plt.title(\"Inventory efficiency is dangerously low — only 32%(AVG) utilized\")\n",
                "plt.xlabel(\"Utilization Ratio\")\n",
                "plt.ylabel(\"Count of SKUs\")\n",
                "plt.legend()\n",
                "plt.tight_layout()\n",
                "plt.show()"
            ]
        },
        {
            "cell_type": "markdown",
            "id": "0599820d",
            "metadata": {},
            "source": [
                "## 💰 Capital Locked in Excess Stock (Scenarios)\n",
                "\n",
                "This table quantifies **excess stock value** by category and the **cash unlocked** under 10% / 20% / 30% reduction scenarios.\n",
                "\n",
                "**Takeaways**\n",
                "- Largest cash unlock opportunities: **clothing**, **toys**, **electronics**.  \n",
                "- A **20% reduction** program alone frees **$0.76–$0.81M per top category**.\n",
                "\n",
                "> Tip: Multiply the excess value by your **carrying cost rate (20–30%/yr)** to show **annual run‑rate savings** from inventory reduction."
            ]
        },
        {
            "cell_type": "code",
            "execution_count": 7,
            "id": "9933c6c3",
            "metadata": {},
            "outputs": [
                {
                    "data": {
                        "application/vnd.microsoft.datawrangler.viewer.v0+json": {
                            "columns": [
                                {
                                    "name": "index",
                                    "rawType": "int64",
                                    "type": "integer"
                                },
                                {
                                    "name": "category",
                                    "rawType": "object",
                                    "type": "string"
                                },
                                {
                                    "name": "excess_stock_value",
                                    "rawType": "float64",
                                    "type": "float"
                                },
                                {
                                    "name": "savings_10pct",
                                    "rawType": "float64",
                                    "type": "float"
                                },
                                {
                                    "name": "savings_20pct",
                                    "rawType": "float64",
                                    "type": "float"
                                },
                                {
                                    "name": "savings_30pct",
                                    "rawType": "float64",
                                    "type": "float"
                                }
                            ],
                            "ref": "0f08b6e8-6855-4800-a53e-6d23fb7f9784",
                            "rows": [
                                [
                                    "0",
                                    "toys",
                                    "4327161.48",
                                    "432716.15",
                                    "865432.3",
                                    "1298148.44"
                                ],
                                [
                                    "1",
                                    "books",
                                    "4181343.77",
                                    "418134.38",
                                    "836268.75",
                                    "1254403.13"
                                ],
                                [
                                    "2",
                                    "electronics",
                                    "3777528.14",
                                    "377752.81",
                                    "755505.63",
                                    "1133258.44"
                                ],
                                [
                                    "3",
                                    "clothing",
                                    "3745567.43",
                                    "374556.74",
                                    "749113.49",
                                    "1123670.23"
                                ],
                                [
                                    "4",
                                    "home",
                                    "3021794.55",
                                    "302179.46",
                                    "604358.91",
                                    "906538.36"
                                ]
                            ],
                            "shape": {
                                "columns": 5,
                                "rows": 5
                            }
                        },
                        "text/html": [
                            "<div>\n",
                            "<style scoped>\n",
                            "    .dataframe tbody tr th:only-of-type {\n",
                            "        vertical-align: middle;\n",
                            "    }\n",
                            "\n",
                            "    .dataframe tbody tr th {\n",
                            "        vertical-align: top;\n",
                            "    }\n",
                            "\n",
                            "    .dataframe thead th {\n",
                            "        text-align: right;\n",
                            "    }\n",
                            "</style>\n",
                            "<table border=\"1\" class=\"dataframe\">\n",
                            "  <thead>\n",
                            "    <tr style=\"text-align: right;\">\n",
                            "      <th></th>\n",
                            "      <th>category</th>\n",
                            "      <th>excess_stock_value</th>\n",
                            "      <th>savings_10pct</th>\n",
                            "      <th>savings_20pct</th>\n",
                            "      <th>savings_30pct</th>\n",
                            "    </tr>\n",
                            "  </thead>\n",
                            "  <tbody>\n",
                            "    <tr>\n",
                            "      <th>0</th>\n",
                            "      <td>toys</td>\n",
                            "      <td>4327161.48</td>\n",
                            "      <td>432716.15</td>\n",
                            "      <td>865432.30</td>\n",
                            "      <td>1298148.44</td>\n",
                            "    </tr>\n",
                            "    <tr>\n",
                            "      <th>1</th>\n",
                            "      <td>books</td>\n",
                            "      <td>4181343.77</td>\n",
                            "      <td>418134.38</td>\n",
                            "      <td>836268.75</td>\n",
                            "      <td>1254403.13</td>\n",
                            "    </tr>\n",
                            "    <tr>\n",
                            "      <th>2</th>\n",
                            "      <td>electronics</td>\n",
                            "      <td>3777528.14</td>\n",
                            "      <td>377752.81</td>\n",
                            "      <td>755505.63</td>\n",
                            "      <td>1133258.44</td>\n",
                            "    </tr>\n",
                            "    <tr>\n",
                            "      <th>3</th>\n",
                            "      <td>clothing</td>\n",
                            "      <td>3745567.43</td>\n",
                            "      <td>374556.74</td>\n",
                            "      <td>749113.49</td>\n",
                            "      <td>1123670.23</td>\n",
                            "    </tr>\n",
                            "    <tr>\n",
                            "      <th>4</th>\n",
                            "      <td>home</td>\n",
                            "      <td>3021794.55</td>\n",
                            "      <td>302179.46</td>\n",
                            "      <td>604358.91</td>\n",
                            "      <td>906538.36</td>\n",
                            "    </tr>\n",
                            "  </tbody>\n",
                            "</table>\n",
                            "</div>"
                        ],
                        "text/plain": [
                            "      category  excess_stock_value  savings_10pct  savings_20pct  \\\n",
                            "0         toys          4327161.48      432716.15      865432.30   \n",
                            "1        books          4181343.77      418134.38      836268.75   \n",
                            "2  electronics          3777528.14      377752.81      755505.63   \n",
                            "3     clothing          3745567.43      374556.74      749113.49   \n",
                            "4         home          3021794.55      302179.46      604358.91   \n",
                            "\n",
                            "   savings_30pct  \n",
                            "0     1298148.44  \n",
                            "1     1254403.13  \n",
                            "2     1133258.44  \n",
                            "3     1123670.23  \n",
                            "4      906538.36  "
                        ]
                    },
                    "execution_count": 7,
                    "metadata": {},
                    "output_type": "execute_result"
                }
            ],
            "source": [
                "# --- calculate excess stock value(USD$) ---\n",
                "\n",
                "sql_capital = \"\"\"\n",
                "WITH cat_excess AS (\n",
                "  SELECT \n",
                "    category,\n",
                "    SUM(\n",
                "      CASE\n",
                "        WHEN (inventory_quantity - net_units_sold) > 0 AND total_sold > 0 THEN\n",
                "          (inventory_quantity - net_units_sold) * (gross_sales_amount * 1.0 / total_sold)\n",
                "        ELSE 0\n",
                "      END\n",
                "    ) AS excess_stock_value\n",
                "  FROM inventory_audit\n",
                "  GROUP BY category\n",
                ")\n",
                "SELECT \n",
                "  category,\n",
                "  ROUND(excess_stock_value, 2)                AS excess_stock_value,\n",
                "  ROUND(excess_stock_value * 0.10, 2)         AS savings_10pct,\n",
                "  ROUND(excess_stock_value * 0.20, 2)         AS savings_20pct,\n",
                "  ROUND(excess_stock_value * 0.30, 2)         AS savings_30pct\n",
                "FROM cat_excess\n",
                "ORDER BY excess_stock_value DESC;\n",
                "\"\"\"\n",
                "df_capital = pd.read_sql(sql_capital, conn)\n",
                "df_capital"
            ]
        },
        {
            "cell_type": "markdown",
            "id": "ef088b1e",
            "metadata": {},
            "source": [
                "## 🟦 Risk Distribution by Category (100% Stacked)\n",
                "\n",
                "Each bar normalizes a category to **100%** and shows the **tier mix** (Healthy → High Attention).  \n",
                "Across categories, **Moderate Attention** is the largest slice (~40–50%), and **High Attention** remains small — reinforcing that **risk is even, not concentrated**.\n",
                "\n",
                "**Action**\n",
                "- Add **category‑level OKRs** tied to:  \n",
                "  1) ↑ **utilization %**,  \n",
                "  2) ↓ **excess value**, and  \n",
                "  3) ↓ **share of Moderate/High** tiers."
            ]
        },
        {
            "cell_type": "code",
            "execution_count": 8,
            "id": "c0c0e126",
            "metadata": {},
            "outputs": [
                {
                    "data": {
                        "image/png": "[encoded data removed]",
                        "text/plain": [
                            "<Figure size 1200x600 with 1 Axes>"
                        ]
                    },
                    "metadata": {},
                    "output_type": "display_data"
                }
            ],
            "source": [
                "# ---- Plot Inv. Attention Flags by Category ---\n",
                "\n",
                "sql_cat = \"\"\"\n",
                "SELECT \n",
                "    category,\n",
                "    inv_attention_tier,\n",
                "    COUNT(*) AS n_products\n",
                "FROM inventory_audit\n",
                "GROUP BY category, inv_attention_tier;\n",
                "\"\"\"\n",
                "df_cat = pd.read_sql(sql_cat, conn)\n",
                "\n",
                "# Pivot for stacked bar\n",
                "pivot = df_cat.pivot(index=\"category\", columns=\"inv_attention_tier\", values=\"n_products\").fillna(0)\n",
                "\n",
                "# --- Plot ---\n",
                "colors = [\"#0072B2\", \"#009E73\", \"#E69F00\", \"#D55E00\"]\n",
                "\n",
                "pivot.plot(\n",
                "    kind=\"barh\",\n",
                "    stacked=True,\n",
                "    figsize=(12, 6),\n",
                "    color=colors\n",
                ")\n",
                "\n",
                "plt.title(\"Category Distribution of Inventory Attention Tiers\", fontsize=14, pad=15)\n",
                "plt.xlabel(\"Number of Products\")\n",
                "plt.ylabel(\"Category\")\n",
                "plt.legend(title=\"Attention Tier\", bbox_to_anchor=(1.05, 1), loc=\"upper left\")\n",
                "plt.tight_layout()\n",
                "plt.show()"
            ]
        },
        {
            "cell_type": "markdown",
            "id": "19f3f5b7",
            "metadata": {},
            "source": [
                "## 💰 Working Capital Allocation (Donut, $)\n",
                "\n",
                "**Locked capital** = excess units × unit price.  \n",
                "The donut splits **🔴 Locked Capital** vs **🟢 Productive Capital** and tags the **Total Inventory Value** in the center.\n",
                "\n",
                "- **$19.2M locked** → that’s the cash sitting idle.  \n",
                "- **Free 20%** → ~$3.8M unlocked, **plus** $0.8–$1.1M/yr carrying cost avoided (20–30% carrying rates)."
            ]
        },
        {
            "cell_type": "code",
            "execution_count": 9,
            "id": "21c25ff4",
            "metadata": {},
            "outputs": [
                {
                    "name": "stdout",
                    "output_type": "stream",
                    "text": [
                        "Tied-Up Capital (derived): $19,053,395.37 | Total Inventory Value: $28,228,923.68\n"
                    ]
                },
                {
                    "data": {
                        "image/png": "[encoded data removed]",
                        "text/plain": [
                            "<Figure size 700x700 with 1 Axes>"
                        ]
                    },
                    "metadata": {},
                    "output_type": "display_data"
                }
            ],
            "source": [
                "# --- Build DF and Plot Working Capital ---\n",
                "\n",
                "# Compute tied-up capital (VALUE) using unit_price\n",
                "sql_value = \"\"\"\n",
                "WITH base AS (\n",
                "  SELECT\n",
                "    ia.product_id,\n",
                "    ia.category,\n",
                "    ia.inv_attention_tier,\n",
                "    MAX(ia.inventory_quantity - (ia.total_sold - ia.total_returned), 0) AS excess_units,\n",
                "    ia.inventory_quantity,\n",
                "    pc.unit_price\n",
                "  FROM inventory_audit ia\n",
                "  LEFT JOIN product_catalog pc\n",
                "    ON pc.product_id = ia.product_id\n",
                "  GROUP BY ia.product_id, ia.category, ia.inv_attention_tier\n",
                "),\n",
                "totals AS (\n",
                "  SELECT\n",
                "    SUM(excess_units * COALESCE(unit_price,0))        AS tied_up_value_usd,\n",
                "    SUM(inventory_quantity * COALESCE(unit_price,0))  AS total_inventory_value_usd\n",
                "  FROM base\n",
                ")\n",
                "SELECT tied_up_value_usd, total_inventory_value_usd FROM totals;\n",
                "\"\"\"\n",
                "df_val = pd.read_sql(sql_value, conn)\n",
                "tied_up = float(df_val.loc[0, \"tied_up_value_usd\"] or 0.0)\n",
                "total_val = float(df_val.loc[0, \"total_inventory_value_usd\"] or 0.0)\n",
                "productive_val = max(total_val - tied_up, 0.0)\n",
                "\n",
                "print(f\"Tied-Up Capital (derived): ${tied_up:,.2f} | Total Inventory Value: ${total_val:,.2f}\")\n",
                "\n",
                "# --- Donut Chart: Locked vs Productive Capital with Total ---\n",
                "fig, ax = plt.subplots(figsize=(7,7))\n",
                "vals = [tied_up, productive_val]\n",
                "labels = [\n",
                "    f\"Locked Capital (${tied_up/1e6:.1f}M)\", \n",
                "    f\"Productive Capital (${productive_val/1e6:.1f}M)\"\n",
                "]\n",
                "colors = [\"#E53935\", \"#4CAF50\"]\n",
                "\n",
                "wedges, texts, autotexts = ax.pie(\n",
                "    vals,\n",
                "    labels=None,\n",
                "    autopct=lambda p: f\"{p:.0f}%\",   # cleaner 68% / 32%\n",
                "    pctdistance=0.82,\n",
                "    startangle=90,\n",
                "    colors=colors\n",
                ")\n",
                "\n",
                "# Percent text formatting\n",
                "for autotext in autotexts:\n",
                "    autotext.set_color(\"white\")\n",
                "    autotext.set_fontweight(\"bold\")\n",
                "    autotext.set_fontsize(12)\n",
                "\n",
                "# Legend with $ values\n",
                "ax.legend(\n",
                "    wedges, labels,\n",
                "    title=\"Inventory Capital Breakdown\",\n",
                "    loc=\"center left\",\n",
                "    bbox_to_anchor=(1, 0.5),\n",
                "    frameon=False\n",
                ")\n",
                "\n",
                "# Donut hole\n",
                "centre_circle = plt.Circle((0,0), 0.65, fc=\"white\")\n",
                "fig.gca().add_artist(centre_circle)\n",
                "\n",
                "# Total inventory value in the middle (rounded for execs)\n",
                "ax.text(\n",
                "    0, 0, \n",
                "    f\"Total\\n${total_val/1e6:.1f}M\", \n",
                "    ha=\"center\", va=\"center\", \n",
                "    fontsize=14, fontweight=\"bold\"\n",
                ")\n",
                "\n",
                "ax.set_title(\"$19.2M Locked in Under-Utilized Inventory\", fontsize=14, pad=15)\n",
                "plt.tight_layout()\n",
                "plt.show()"
            ]
        },
        {
            "cell_type": "markdown",
            "id": "9468de45",
            "metadata": {},
            "source": [
                "## 🧾 Appendix (Definitions)\n",
                "\n",
                "- **Utilization (%)** = (Total Sold − Total Returned) ÷ Inventory.  \n",
                "- **Excess Units** = MAX(Inventory − Net Sold, 0).  \n",
                "- **Locked Capital ($)** = Excess Units × Unit Price.  \n",
                "- **Return Rate (%)** = Total Returned ÷ Total Sold.  \n",
                "- **Non‑Restockable (%)** = Non‑restockable Qty ÷ Total Returned.  \n",
                "- **Attention Tiers** = Healthy (0) → High Attention (3)."
            ]
        }
    ],
    "metadata": {
        "kernelspec": {
            "display_name": "sql_stories_env",
            "language": "python",
            "name": "python3"
        },
        "language_info": {
            "codemirror_mode": {
                "name": "ipython",
                "version": 3
            },
            "file_extension": ".py",
            "mimetype": "text/x-python",
            "name": "python",
            "nbconvert_exporter": "python",
            "pygments_lexer": "ipython3",
            "version": "3.10.18"
        }
    },
    "nbformat": 4,
    "nbformat_minor": 5
}
